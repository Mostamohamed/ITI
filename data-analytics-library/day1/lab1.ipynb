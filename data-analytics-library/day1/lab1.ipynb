{
 "cells": [
  {
   "cell_type": "code",
   "execution_count": 1,
   "id": "61274c0f",
   "metadata": {},
   "outputs": [],
   "source": [
    "import numpy as np"
   ]
  },
  {
   "cell_type": "markdown",
   "id": "5dcffc0b",
   "metadata": {},
   "source": [
    "1. Write a NumPy program to create an array of 10 zeros, array of 10 ones, and \n",
    "array of 10 fives."
   ]
  },
  {
   "cell_type": "code",
   "execution_count": 47,
   "id": "fd372979",
   "metadata": {},
   "outputs": [
    {
     "data": {
      "text/plain": [
       "array([5, 5, 5, 5, 5, 5, 5, 5, 5, 5])"
      ]
     },
     "execution_count": 47,
     "metadata": {},
     "output_type": "execute_result"
    }
   ],
   "source": [
    "zeros_array = np.zeros(10)\n",
    "\n",
    "ones_array = np.ones(10)\n",
    "\n",
    "fives_array = np.full(10, 5)\n",
    "\n",
    "zeros_array\n",
    "ones_array\n",
    "fives_array\n"
   ]
  },
  {
   "cell_type": "markdown",
   "id": "1d3add6d",
   "metadata": {},
   "source": [
    "2. Write a NumPy program to create an array of all even integers from 30 to 70. "
   ]
  },
  {
   "cell_type": "code",
   "execution_count": 48,
   "id": "70772a02",
   "metadata": {},
   "outputs": [
    {
     "data": {
      "text/plain": [
       "array([30, 32, 34, 36, 38, 40, 42, 44, 46, 48, 50, 52, 54, 56, 58, 60, 62,\n",
       "       64, 66, 68])"
      ]
     },
     "execution_count": 48,
     "metadata": {},
     "output_type": "execute_result"
    }
   ],
   "source": [
    "even_numbers = np.arange(30, 70, 2)\n",
    "even_numbers"
   ]
  },
  {
   "cell_type": "markdown",
   "id": "8515a612",
   "metadata": {},
   "source": [
    "3. Write a NumPy program to create an array of given shape (5,6) and integer \n",
    "type, filled with zeros. "
   ]
  },
  {
   "cell_type": "code",
   "execution_count": null,
   "id": "9f637b50",
   "metadata": {},
   "outputs": [
    {
     "data": {
      "text/plain": [
       "array([[0, 0, 0, 0, 0, 0],\n",
       "       [0, 0, 0, 0, 0, 0],\n",
       "       [0, 0, 0, 0, 0, 0],\n",
       "       [0, 0, 0, 0, 0, 0],\n",
       "       [0, 0, 0, 0, 0, 0]])"
      ]
     },
     "execution_count": 6,
     "metadata": {},
     "output_type": "execute_result"
    }
   ],
   "source": [
    "zeros_array = np.zeros((5, 6), dtype=int)\n",
    "zeros_array"
   ]
  },
  {
   "cell_type": "markdown",
   "id": "a557d11d",
   "metadata": {},
   "source": [
    "4. Create a 10x10 array with random values and find the minimum and \n",
    "maximum values."
   ]
  },
  {
   "cell_type": "code",
   "execution_count": 20,
   "id": "78e39a46",
   "metadata": {},
   "outputs": [
    {
     "data": {
      "text/plain": [
       "array([[0.73566946, 0.58756348, 0.04087432, 0.49631818, 0.75446329,\n",
       "        0.0385484 , 0.75249596, 0.03776084, 0.8670192 , 0.5881418 ],\n",
       "       [0.68876946, 0.16135603, 0.05108016, 0.65385428, 0.30298083,\n",
       "        0.03390966, 0.76384919, 0.63264212, 0.7225009 , 0.54397541],\n",
       "       [0.68023266, 0.38746579, 0.28109315, 0.67922525, 0.98082184,\n",
       "        0.50632445, 0.03984533, 0.03325712, 0.43336645, 0.57254953],\n",
       "       [0.87080436, 0.29532435, 0.85563354, 0.68329381, 0.94695673,\n",
       "        0.6948923 , 0.8640208 , 0.65674472, 0.21253141, 0.61398357],\n",
       "       [0.05953925, 0.17208502, 0.12070731, 0.37884403, 0.64752507,\n",
       "        0.45504929, 0.8262945 , 0.93711998, 0.34430482, 0.15977015],\n",
       "       [0.8557111 , 0.48597726, 0.57256574, 0.32811669, 0.34852482,\n",
       "        0.31332636, 0.58028732, 0.35711952, 0.95199367, 0.60447819],\n",
       "       [0.55911328, 0.95499905, 0.73241405, 0.68211974, 0.57929593,\n",
       "        0.75913024, 0.79591878, 0.09433553, 0.91537873, 0.57879161],\n",
       "       [0.57629055, 0.20807756, 0.11609466, 0.35165425, 0.86726084,\n",
       "        0.98126081, 0.70886046, 0.00167049, 0.90919236, 0.75596116],\n",
       "       [0.23495452, 0.57387069, 0.12022684, 0.30699795, 0.75372869,\n",
       "        0.93916944, 0.86592335, 0.76972582, 0.43914361, 0.52858929],\n",
       "       [0.51299696, 0.80735023, 0.82849132, 0.61555375, 0.31732225,\n",
       "        0.0652392 , 0.40427634, 0.88383965, 0.9188685 , 0.62880202]])"
      ]
     },
     "execution_count": 20,
     "metadata": {},
     "output_type": "execute_result"
    }
   ],
   "source": [
    "random_array = np.random.rand(10,10)\n",
    "random_array"
   ]
  },
  {
   "cell_type": "code",
   "execution_count": 21,
   "id": "9ebeedad",
   "metadata": {},
   "outputs": [
    {
     "data": {
      "text/plain": [
       "(np.float64(0.9812608114876102), np.float64(0.0016704905828659466))"
      ]
     },
     "execution_count": 21,
     "metadata": {},
     "output_type": "execute_result"
    }
   ],
   "source": [
    "random_array.max() ,random_array.min()"
   ]
  },
  {
   "cell_type": "markdown",
   "id": "6feb578d",
   "metadata": {},
   "source": [
    "5. Write a NumPy program to create a 3x3 array with values ranging from 2 to 10. "
   ]
  },
  {
   "cell_type": "code",
   "execution_count": null,
   "id": "933c72d9",
   "metadata": {},
   "outputs": [
    {
     "data": {
      "text/plain": [
       "array([[ 2,  3,  4],\n",
       "       [ 5,  6,  7],\n",
       "       [ 8,  9, 10]])"
      ]
     },
     "execution_count": 22,
     "metadata": {},
     "output_type": "execute_result"
    }
   ],
   "source": [
    "arr = np.arange(2, 11).reshape(3, 3)\n",
    "arr"
   ]
  },
  {
   "cell_type": "markdown",
   "id": "24e37a01",
   "metadata": {},
   "source": [
    "6. Write a NumPy program to create an array of size = 20 using arrange, then \n",
    "extract all numbers from a given array greater than 15. "
   ]
  },
  {
   "cell_type": "code",
   "execution_count": null,
   "id": "b3279e75",
   "metadata": {},
   "outputs": [
    {
     "data": {
      "text/plain": [
       "array([16, 17, 18, 19])"
      ]
     },
     "execution_count": 36,
     "metadata": {},
     "output_type": "execute_result"
    }
   ],
   "source": [
    "arr = np.arange(20)\n",
    "\n",
    "result = arr[arr > 15]\n",
    "\n",
    "result"
   ]
  },
  {
   "cell_type": "markdown",
   "id": "249dc595",
   "metadata": {},
   "source": [
    "7. Write a NumPy program to combine the two 2-dimensional arrays using \n",
    "hstack and vstack. \n",
    "Array 1: [[0, 1, 3], [5, 7, 9]] \n",
    "Array 2: [[0, 2, 4], [6, 8, 10]]"
   ]
  },
  {
   "cell_type": "code",
   "execution_count": 38,
   "id": "81910e60",
   "metadata": {},
   "outputs": [],
   "source": [
    "arr1 = np.array([[0, 1, 3], [5, 7, 9]])\n",
    "arr2 = np.array([[0, 2, 4], [6, 8, 10]])"
   ]
  },
  {
   "cell_type": "code",
   "execution_count": 39,
   "id": "a5e74853",
   "metadata": {},
   "outputs": [
    {
     "data": {
      "text/plain": [
       "array([[ 0,  1,  3,  0,  2,  4],\n",
       "       [ 5,  7,  9,  6,  8, 10]])"
      ]
     },
     "execution_count": 39,
     "metadata": {},
     "output_type": "execute_result"
    }
   ],
   "source": [
    "h_result = np.hstack((arr1, arr2))\n",
    "h_result"
   ]
  },
  {
   "cell_type": "code",
   "execution_count": 40,
   "id": "3f4a98e1",
   "metadata": {},
   "outputs": [
    {
     "data": {
      "text/plain": [
       "array([[ 0,  1,  3],\n",
       "       [ 5,  7,  9],\n",
       "       [ 0,  2,  4],\n",
       "       [ 6,  8, 10]])"
      ]
     },
     "execution_count": 40,
     "metadata": {},
     "output_type": "execute_result"
    }
   ],
   "source": [
    "v_result = np.vstack((arr1, arr2))\n",
    "v_result"
   ]
  },
  {
   "cell_type": "markdown",
   "id": "d0902ebe",
   "metadata": {},
   "source": [
    "8. Write a NumPy program to create ones array of size 10 and change the 6th \n",
    "element to 11. "
   ]
  },
  {
   "cell_type": "code",
   "execution_count": 42,
   "id": "91ae1e44",
   "metadata": {},
   "outputs": [
    {
     "data": {
      "text/plain": [
       "array([ 1,  1,  1,  1,  1, 11,  1,  1,  1,  1])"
      ]
     },
     "execution_count": 42,
     "metadata": {},
     "output_type": "execute_result"
    }
   ],
   "source": [
    "arr = np.ones(10, dtype=int)\n",
    "arr[5] = 11\n",
    "arr"
   ]
  },
  {
   "cell_type": "markdown",
   "id": "b9ecc0d4",
   "metadata": {},
   "source": [
    "9. Write a NumPy program to append a value to the end of an array. \n"
   ]
  },
  {
   "cell_type": "code",
   "execution_count": 33,
   "id": "a90eeefe",
   "metadata": {},
   "outputs": [
    {
     "data": {
      "text/plain": [
       "array([1, 2, 3, 4, 5, 6])"
      ]
     },
     "execution_count": 33,
     "metadata": {},
     "output_type": "execute_result"
    }
   ],
   "source": [
    "arr = np.array([1, 2, 3, 4, 5])\n",
    "\n",
    "new_arr = np.append(arr, 6)\n",
    "\n",
    "new_arr"
   ]
  },
  {
   "cell_type": "markdown",
   "id": "b034c0a8",
   "metadata": {},
   "source": [
    "10. Write a NumPy program to reverse an array [using two different methods]. \n"
   ]
  },
  {
   "cell_type": "markdown",
   "id": "bb996fea",
   "metadata": {},
   "source": [
    "slicing"
   ]
  },
  {
   "cell_type": "code",
   "execution_count": 44,
   "id": "1f529cb1",
   "metadata": {},
   "outputs": [
    {
     "data": {
      "text/plain": [
       "array([5, 4, 3, 2, 1])"
      ]
     },
     "execution_count": 44,
     "metadata": {},
     "output_type": "execute_result"
    }
   ],
   "source": [
    "arr = np.array([1, 2, 3, 4, 5])\n",
    "\n",
    "reversed_arr1 = arr[::-1]\n",
    "reversed_arr1"
   ]
  },
  {
   "cell_type": "markdown",
   "id": "e4489fc4",
   "metadata": {},
   "source": [
    "flip"
   ]
  },
  {
   "cell_type": "code",
   "execution_count": 45,
   "id": "e4288cfa",
   "metadata": {},
   "outputs": [
    {
     "data": {
      "text/plain": [
       "array([5, 4, 3, 2, 1])"
      ]
     },
     "execution_count": 45,
     "metadata": {},
     "output_type": "execute_result"
    }
   ],
   "source": [
    "arr = np.array([1, 2, 3, 4, 5])\n",
    "reversed_arr2 = np.flip(arr)\n",
    "reversed_arr2\n"
   ]
  },
  {
   "cell_type": "markdown",
   "id": "188e8710",
   "metadata": {},
   "source": [
    "Reverse"
   ]
  },
  {
   "cell_type": "code",
   "execution_count": null,
   "id": "de2b6d53",
   "metadata": {},
   "outputs": [
    {
     "data": {
      "text/plain": [
       "[5, 4, 3, 2, 1]"
      ]
     },
     "execution_count": 46,
     "metadata": {},
     "output_type": "execute_result"
    }
   ],
   "source": [
    "arr = [1, 2, 3, 4, 5]\n",
    "arr.reverse()\n",
    "arr"
   ]
  }
 ],
 "metadata": {
  "kernelspec": {
   "display_name": "Python 3",
   "language": "python",
   "name": "python3"
  },
  "language_info": {
   "codemirror_mode": {
    "name": "ipython",
    "version": 3
   },
   "file_extension": ".py",
   "mimetype": "text/x-python",
   "name": "python",
   "nbconvert_exporter": "python",
   "pygments_lexer": "ipython3",
   "version": "3.13.7"
  }
 },
 "nbformat": 4,
 "nbformat_minor": 5
}
