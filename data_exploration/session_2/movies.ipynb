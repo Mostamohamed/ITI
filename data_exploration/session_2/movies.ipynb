{
 "cells": [
  {
   "cell_type": "code",
   "execution_count": 1,
   "id": "0785c6c4",
   "metadata": {},
   "outputs": [],
   "source": [
    "from selenium import webdriver\n",
    "from selenium.webdriver.common.by import By\n",
    "import pandas as pd\n",
    "import time"
   ]
  },
  {
   "cell_type": "code",
   "execution_count": 2,
   "id": "d61e240f",
   "metadata": {},
   "outputs": [],
   "source": [
    "driver = webdriver.Chrome()"
   ]
  },
  {
   "cell_type": "code",
   "execution_count": 4,
   "id": "00e42bbe",
   "metadata": {},
   "outputs": [],
   "source": [
    "driver.get(\"https://www.boxofficemojo.com/chart/top_lifetime_gross/?area=XWW\")\n",
    "time.sleep(3)"
   ]
  },
  {
   "cell_type": "code",
   "execution_count": 5,
   "id": "41ff6ccc",
   "metadata": {},
   "outputs": [],
   "source": [
    "rows = driver.find_elements(By.XPATH, \"//table//tr\")[1:]"
   ]
  },
  {
   "cell_type": "code",
   "execution_count": 7,
   "id": "cbf8b724",
   "metadata": {},
   "outputs": [],
   "source": [
    "data = []\n",
    "for row in rows:\n",
    "    try:\n",
    "        cols = row.find_elements(By.TAG_NAME, \"td\")\n",
    "        if len(cols) >= 4:\n",
    "            rank = cols[0].text.strip()\n",
    "            title = cols[1].text.strip()\n",
    "            gross = cols[2].text.strip()\n",
    "            year = cols[3].text.strip()\n",
    "            data.append([rank, title, gross, year])\n",
    "    except Exception as e:\n",
    "        print(\"Error parsing row:\", e)"
   ]
  },
  {
   "cell_type": "code",
   "execution_count": 9,
   "id": "f696498e",
   "metadata": {},
   "outputs": [],
   "source": [
    "df = pd.DataFrame(data, columns=[\"Rank\", \"Title\", \"Lifetime Gross\", \"Year\"])"
   ]
  },
  {
   "cell_type": "code",
   "execution_count": 10,
   "id": "19cf5e18",
   "metadata": {},
   "outputs": [
    {
     "data": {
      "text/html": [
       "<div>\n",
       "<style scoped>\n",
       "    .dataframe tbody tr th:only-of-type {\n",
       "        vertical-align: middle;\n",
       "    }\n",
       "\n",
       "    .dataframe tbody tr th {\n",
       "        vertical-align: top;\n",
       "    }\n",
       "\n",
       "    .dataframe thead th {\n",
       "        text-align: right;\n",
       "    }\n",
       "</style>\n",
       "<table border=\"1\" class=\"dataframe\">\n",
       "  <thead>\n",
       "    <tr style=\"text-align: right;\">\n",
       "      <th></th>\n",
       "      <th>Rank</th>\n",
       "      <th>Title</th>\n",
       "      <th>Lifetime Gross</th>\n",
       "      <th>Year</th>\n",
       "    </tr>\n",
       "  </thead>\n",
       "  <tbody>\n",
       "    <tr>\n",
       "      <th>0</th>\n",
       "      <td>1</td>\n",
       "      <td>Avatar</td>\n",
       "      <td>$2,923,710,708</td>\n",
       "      <td>2009</td>\n",
       "    </tr>\n",
       "    <tr>\n",
       "      <th>1</th>\n",
       "      <td>2</td>\n",
       "      <td>Avengers: Endgame</td>\n",
       "      <td>$2,799,439,100</td>\n",
       "      <td>2019</td>\n",
       "    </tr>\n",
       "    <tr>\n",
       "      <th>2</th>\n",
       "      <td>3</td>\n",
       "      <td>Avatar: The Way of Water</td>\n",
       "      <td>$2,320,250,281</td>\n",
       "      <td>2022</td>\n",
       "    </tr>\n",
       "    <tr>\n",
       "      <th>3</th>\n",
       "      <td>4</td>\n",
       "      <td>Titanic</td>\n",
       "      <td>$2,264,812,968</td>\n",
       "      <td>1997</td>\n",
       "    </tr>\n",
       "    <tr>\n",
       "      <th>4</th>\n",
       "      <td>5</td>\n",
       "      <td>Ne Zha 2</td>\n",
       "      <td>$2,150,000,000</td>\n",
       "      <td>2025</td>\n",
       "    </tr>\n",
       "    <tr>\n",
       "      <th>...</th>\n",
       "      <td>...</td>\n",
       "      <td>...</td>\n",
       "      <td>...</td>\n",
       "      <td>...</td>\n",
       "    </tr>\n",
       "    <tr>\n",
       "      <th>195</th>\n",
       "      <td>196</td>\n",
       "      <td>The Passion of the Christ</td>\n",
       "      <td>$610,063,438</td>\n",
       "      <td>2004</td>\n",
       "    </tr>\n",
       "    <tr>\n",
       "      <th>196</th>\n",
       "      <td>197</td>\n",
       "      <td>Life of Pi</td>\n",
       "      <td>$609,016,565</td>\n",
       "      <td>2012</td>\n",
       "    </tr>\n",
       "    <tr>\n",
       "      <th>197</th>\n",
       "      <td>198</td>\n",
       "      <td>Ready Player One</td>\n",
       "      <td>$607,874,422</td>\n",
       "      <td>2018</td>\n",
       "    </tr>\n",
       "    <tr>\n",
       "      <th>198</th>\n",
       "      <td>199</td>\n",
       "      <td>Transformers: The Last Knight</td>\n",
       "      <td>$605,425,157</td>\n",
       "      <td>2017</td>\n",
       "    </tr>\n",
       "    <tr>\n",
       "      <th>199</th>\n",
       "      <td>200</td>\n",
       "      <td>Madagascar: Escape 2 Africa</td>\n",
       "      <td>$603,900,354</td>\n",
       "      <td>2008</td>\n",
       "    </tr>\n",
       "  </tbody>\n",
       "</table>\n",
       "<p>200 rows × 4 columns</p>\n",
       "</div>"
      ],
      "text/plain": [
       "    Rank                          Title  Lifetime Gross  Year\n",
       "0      1                         Avatar  $2,923,710,708  2009\n",
       "1      2              Avengers: Endgame  $2,799,439,100  2019\n",
       "2      3       Avatar: The Way of Water  $2,320,250,281  2022\n",
       "3      4                        Titanic  $2,264,812,968  1997\n",
       "4      5                       Ne Zha 2  $2,150,000,000  2025\n",
       "..   ...                            ...             ...   ...\n",
       "195  196      The Passion of the Christ    $610,063,438  2004\n",
       "196  197                     Life of Pi    $609,016,565  2012\n",
       "197  198               Ready Player One    $607,874,422  2018\n",
       "198  199  Transformers: The Last Knight    $605,425,157  2017\n",
       "199  200    Madagascar: Escape 2 Africa    $603,900,354  2008\n",
       "\n",
       "[200 rows x 4 columns]"
      ]
     },
     "execution_count": 10,
     "metadata": {},
     "output_type": "execute_result"
    }
   ],
   "source": [
    "df"
   ]
  },
  {
   "cell_type": "code",
   "execution_count": 11,
   "id": "577cf3cd",
   "metadata": {},
   "outputs": [],
   "source": [
    "df.to_csv(\"top_200_movies.csv\", index=False, encoding=\"utf-8\")"
   ]
  }
 ],
 "metadata": {
  "kernelspec": {
   "display_name": "Python 3",
   "language": "python",
   "name": "python3"
  },
  "language_info": {
   "codemirror_mode": {
    "name": "ipython",
    "version": 3
   },
   "file_extension": ".py",
   "mimetype": "text/x-python",
   "name": "python",
   "nbconvert_exporter": "python",
   "pygments_lexer": "ipython3",
   "version": "3.13.7"
  }
 },
 "nbformat": 4,
 "nbformat_minor": 5
}
